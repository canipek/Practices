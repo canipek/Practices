{
 "cells": [
  {
   "cell_type": "code",
   "execution_count": 1,
   "id": "c6952bf3",
   "metadata": {
    "_cell_guid": "b1076dfc-b9ad-4769-8c92-a6c4dae69d19",
    "_uuid": "8f2839f25d086af736a60e9eeb907d3b93b6e0e5",
    "execution": {
     "iopub.execute_input": "2024-09-17T15:19:04.464819Z",
     "iopub.status.busy": "2024-09-17T15:19:04.464261Z",
     "iopub.status.idle": "2024-09-17T15:19:04.889111Z",
     "shell.execute_reply": "2024-09-17T15:19:04.887844Z"
    },
    "papermill": {
     "duration": 0.435266,
     "end_time": "2024-09-17T15:19:04.891769",
     "exception": false,
     "start_time": "2024-09-17T15:19:04.456503",
     "status": "completed"
    },
    "tags": []
   },
   "outputs": [
    {
     "name": "stdout",
     "output_type": "stream",
     "text": [
      "/kaggle/input/ab-testing/ab_testing.xlsx\n"
     ]
    }
   ],
   "source": [
    "import numpy as np\n",
    "import pandas as pd\n",
    "\n",
    "import os\n",
    "for dirname, _, filenames in os.walk('/kaggle/input'):\n",
    "    for filename in filenames:\n",
    "        print(os.path.join(dirname, filename))"
   ]
  },
  {
   "cell_type": "code",
   "execution_count": 2,
   "id": "17c953da",
   "metadata": {
    "execution": {
     "iopub.execute_input": "2024-09-17T15:19:04.905180Z",
     "iopub.status.busy": "2024-09-17T15:19:04.904634Z",
     "iopub.status.idle": "2024-09-17T15:19:05.310671Z",
     "shell.execute_reply": "2024-09-17T15:19:05.309271Z"
    },
    "papermill": {
     "duration": 0.41574,
     "end_time": "2024-09-17T15:19:05.313522",
     "exception": false,
     "start_time": "2024-09-17T15:19:04.897782",
     "status": "completed"
    },
    "tags": []
   },
   "outputs": [],
   "source": [
    "df_c = pd.read_excel('/kaggle/input/ab-testing/ab_testing.xlsx', sheet_name = 'Control Group')\n",
    "df_t = pd.read_excel('/kaggle/input/ab-testing/ab_testing.xlsx', sheet_name = 'Test Group')\n",
    "df_c['Group'] = 'Control'\n",
    "df_t['Group'] = 'Test'"
   ]
  },
  {
   "cell_type": "code",
   "execution_count": 3,
   "id": "538cd674",
   "metadata": {
    "execution": {
     "iopub.execute_input": "2024-09-17T15:19:05.326933Z",
     "iopub.status.busy": "2024-09-17T15:19:05.326372Z",
     "iopub.status.idle": "2024-09-17T15:19:05.346171Z",
     "shell.execute_reply": "2024-09-17T15:19:05.345071Z"
    },
    "papermill": {
     "duration": 0.029724,
     "end_time": "2024-09-17T15:19:05.348872",
     "exception": false,
     "start_time": "2024-09-17T15:19:05.319148",
     "status": "completed"
    },
    "tags": []
   },
   "outputs": [
    {
     "data": {
      "text/html": [
       "<div>\n",
       "<style scoped>\n",
       "    .dataframe tbody tr th:only-of-type {\n",
       "        vertical-align: middle;\n",
       "    }\n",
       "\n",
       "    .dataframe tbody tr th {\n",
       "        vertical-align: top;\n",
       "    }\n",
       "\n",
       "    .dataframe thead th {\n",
       "        text-align: right;\n",
       "    }\n",
       "</style>\n",
       "<table border=\"1\" class=\"dataframe\">\n",
       "  <thead>\n",
       "    <tr style=\"text-align: right;\">\n",
       "      <th></th>\n",
       "      <th>Impression</th>\n",
       "      <th>Click</th>\n",
       "      <th>Purchase</th>\n",
       "      <th>Earning</th>\n",
       "      <th>Group</th>\n",
       "    </tr>\n",
       "  </thead>\n",
       "  <tbody>\n",
       "    <tr>\n",
       "      <th>0</th>\n",
       "      <td>82529.459271</td>\n",
       "      <td>6090.077317</td>\n",
       "      <td>665.211255</td>\n",
       "      <td>2311.277143</td>\n",
       "      <td>Control</td>\n",
       "    </tr>\n",
       "    <tr>\n",
       "      <th>1</th>\n",
       "      <td>98050.451926</td>\n",
       "      <td>3382.861786</td>\n",
       "      <td>315.084895</td>\n",
       "      <td>1742.806855</td>\n",
       "      <td>Control</td>\n",
       "    </tr>\n",
       "    <tr>\n",
       "      <th>2</th>\n",
       "      <td>82696.023549</td>\n",
       "      <td>4167.965750</td>\n",
       "      <td>458.083738</td>\n",
       "      <td>1797.827447</td>\n",
       "      <td>Control</td>\n",
       "    </tr>\n",
       "    <tr>\n",
       "      <th>3</th>\n",
       "      <td>109914.400398</td>\n",
       "      <td>4910.882240</td>\n",
       "      <td>487.090773</td>\n",
       "      <td>1696.229178</td>\n",
       "      <td>Control</td>\n",
       "    </tr>\n",
       "    <tr>\n",
       "      <th>4</th>\n",
       "      <td>108457.762630</td>\n",
       "      <td>5987.655811</td>\n",
       "      <td>441.034050</td>\n",
       "      <td>1543.720179</td>\n",
       "      <td>Control</td>\n",
       "    </tr>\n",
       "  </tbody>\n",
       "</table>\n",
       "</div>"
      ],
      "text/plain": [
       "      Impression        Click    Purchase      Earning    Group\n",
       "0   82529.459271  6090.077317  665.211255  2311.277143  Control\n",
       "1   98050.451926  3382.861786  315.084895  1742.806855  Control\n",
       "2   82696.023549  4167.965750  458.083738  1797.827447  Control\n",
       "3  109914.400398  4910.882240  487.090773  1696.229178  Control\n",
       "4  108457.762630  5987.655811  441.034050  1543.720179  Control"
      ]
     },
     "execution_count": 3,
     "metadata": {},
     "output_type": "execute_result"
    }
   ],
   "source": [
    "df_c.head()"
   ]
  },
  {
   "cell_type": "code",
   "execution_count": 4,
   "id": "378a4e66",
   "metadata": {
    "execution": {
     "iopub.execute_input": "2024-09-17T15:19:05.362479Z",
     "iopub.status.busy": "2024-09-17T15:19:05.361650Z",
     "iopub.status.idle": "2024-09-17T15:19:05.367929Z",
     "shell.execute_reply": "2024-09-17T15:19:05.366601Z"
    },
    "papermill": {
     "duration": 0.015707,
     "end_time": "2024-09-17T15:19:05.370353",
     "exception": false,
     "start_time": "2024-09-17T15:19:05.354646",
     "status": "completed"
    },
    "tags": []
   },
   "outputs": [],
   "source": [
    "df = pd.concat([df_c, df_t])"
   ]
  },
  {
   "cell_type": "code",
   "execution_count": 5,
   "id": "0b25577f",
   "metadata": {
    "execution": {
     "iopub.execute_input": "2024-09-17T15:19:05.383561Z",
     "iopub.status.busy": "2024-09-17T15:19:05.383121Z",
     "iopub.status.idle": "2024-09-17T15:19:05.396795Z",
     "shell.execute_reply": "2024-09-17T15:19:05.395523Z"
    },
    "papermill": {
     "duration": 0.023588,
     "end_time": "2024-09-17T15:19:05.399762",
     "exception": false,
     "start_time": "2024-09-17T15:19:05.376174",
     "status": "completed"
    },
    "tags": []
   },
   "outputs": [
    {
     "data": {
      "text/html": [
       "<div>\n",
       "<style scoped>\n",
       "    .dataframe tbody tr th:only-of-type {\n",
       "        vertical-align: middle;\n",
       "    }\n",
       "\n",
       "    .dataframe tbody tr th {\n",
       "        vertical-align: top;\n",
       "    }\n",
       "\n",
       "    .dataframe thead th {\n",
       "        text-align: right;\n",
       "    }\n",
       "</style>\n",
       "<table border=\"1\" class=\"dataframe\">\n",
       "  <thead>\n",
       "    <tr style=\"text-align: right;\">\n",
       "      <th></th>\n",
       "      <th>Impression</th>\n",
       "      <th>Click</th>\n",
       "      <th>Purchase</th>\n",
       "      <th>Earning</th>\n",
       "      <th>Group</th>\n",
       "    </tr>\n",
       "  </thead>\n",
       "  <tbody>\n",
       "    <tr>\n",
       "      <th>0</th>\n",
       "      <td>82529.459271</td>\n",
       "      <td>6090.077317</td>\n",
       "      <td>665.211255</td>\n",
       "      <td>2311.277143</td>\n",
       "      <td>Control</td>\n",
       "    </tr>\n",
       "    <tr>\n",
       "      <th>1</th>\n",
       "      <td>98050.451926</td>\n",
       "      <td>3382.861786</td>\n",
       "      <td>315.084895</td>\n",
       "      <td>1742.806855</td>\n",
       "      <td>Control</td>\n",
       "    </tr>\n",
       "    <tr>\n",
       "      <th>2</th>\n",
       "      <td>82696.023549</td>\n",
       "      <td>4167.965750</td>\n",
       "      <td>458.083738</td>\n",
       "      <td>1797.827447</td>\n",
       "      <td>Control</td>\n",
       "    </tr>\n",
       "    <tr>\n",
       "      <th>3</th>\n",
       "      <td>109914.400398</td>\n",
       "      <td>4910.882240</td>\n",
       "      <td>487.090773</td>\n",
       "      <td>1696.229178</td>\n",
       "      <td>Control</td>\n",
       "    </tr>\n",
       "    <tr>\n",
       "      <th>4</th>\n",
       "      <td>108457.762630</td>\n",
       "      <td>5987.655811</td>\n",
       "      <td>441.034050</td>\n",
       "      <td>1543.720179</td>\n",
       "      <td>Control</td>\n",
       "    </tr>\n",
       "  </tbody>\n",
       "</table>\n",
       "</div>"
      ],
      "text/plain": [
       "      Impression        Click    Purchase      Earning    Group\n",
       "0   82529.459271  6090.077317  665.211255  2311.277143  Control\n",
       "1   98050.451926  3382.861786  315.084895  1742.806855  Control\n",
       "2   82696.023549  4167.965750  458.083738  1797.827447  Control\n",
       "3  109914.400398  4910.882240  487.090773  1696.229178  Control\n",
       "4  108457.762630  5987.655811  441.034050  1543.720179  Control"
      ]
     },
     "execution_count": 5,
     "metadata": {},
     "output_type": "execute_result"
    }
   ],
   "source": [
    "df.head()"
   ]
  },
  {
   "cell_type": "markdown",
   "id": "2df939eb",
   "metadata": {
    "papermill": {
     "duration": 0.006012,
     "end_time": "2024-09-17T15:19:05.411760",
     "exception": false,
     "start_time": "2024-09-17T15:19:05.405748",
     "status": "completed"
    },
    "tags": []
   },
   "source": [
    "H0 : M1 = M2 ------- Kontrol ve test gruplarının **Purchase** değişkeninlerinin dağılımları arasında anlamlı bir fark **yoktur**.\n",
    "\n",
    "H1 : M1!= M2 ------- Kontrol ve test gruplarının **Purchase** değişkeninlerinin dağılımları arasında anlamlı bir fark **vardır**."
   ]
  },
  {
   "cell_type": "code",
   "execution_count": 6,
   "id": "33297dc6",
   "metadata": {
    "execution": {
     "iopub.execute_input": "2024-09-17T15:19:05.426367Z",
     "iopub.status.busy": "2024-09-17T15:19:05.425923Z",
     "iopub.status.idle": "2024-09-17T15:19:05.440160Z",
     "shell.execute_reply": "2024-09-17T15:19:05.438425Z"
    },
    "papermill": {
     "duration": 0.024725,
     "end_time": "2024-09-17T15:19:05.442854",
     "exception": false,
     "start_time": "2024-09-17T15:19:05.418129",
     "status": "completed"
    },
    "tags": []
   },
   "outputs": [
    {
     "name": "stdout",
     "output_type": "stream",
     "text": [
      "550.8940587702316 582.1060966484677\n"
     ]
    }
   ],
   "source": [
    "print(df[df['Group'] == 'Control']['Purchase'].mean(), df[df['Group'] == 'Test']['Purchase'].mean())"
   ]
  },
  {
   "cell_type": "markdown",
   "id": "09f481fa",
   "metadata": {
    "papermill": {
     "duration": 0.005832,
     "end_time": "2024-09-17T15:19:05.455172",
     "exception": false,
     "start_time": "2024-09-17T15:19:05.449340",
     "status": "completed"
    },
    "tags": []
   },
   "source": [
    "## Varsayım Kontrolleri"
   ]
  },
  {
   "cell_type": "markdown",
   "id": "68083c5d",
   "metadata": {
    "papermill": {
     "duration": 0.005814,
     "end_time": "2024-09-17T15:19:05.467142",
     "exception": false,
     "start_time": "2024-09-17T15:19:05.461328",
     "status": "completed"
    },
    "tags": []
   },
   "source": [
    "### Shapiro-Wilk Normal dağılıma uygunluk Testi"
   ]
  },
  {
   "cell_type": "markdown",
   "id": "97492ff7",
   "metadata": {
    "papermill": {
     "duration": 0.006045,
     "end_time": "2024-09-17T15:19:05.479145",
     "exception": false,
     "start_time": "2024-09-17T15:19:05.473100",
     "status": "completed"
    },
    "tags": []
   },
   "source": [
    "H0 : M = N(x, s) ------- Kontrol ve test gruplarının **Purchase** değişkeninlerinin dağılımları normal dağılıma **uygundur**.\n",
    "\n",
    "H1 : M != N(x, s) ------ Kontrol ve test gruplarının **Purchase** değişkeninlerinin dağılımları normal dağılıma **uygun değildir**."
   ]
  },
  {
   "cell_type": "code",
   "execution_count": 7,
   "id": "344563f2",
   "metadata": {
    "execution": {
     "iopub.execute_input": "2024-09-17T15:19:05.494266Z",
     "iopub.status.busy": "2024-09-17T15:19:05.492639Z",
     "iopub.status.idle": "2024-09-17T15:19:06.901113Z",
     "shell.execute_reply": "2024-09-17T15:19:06.899741Z"
    },
    "papermill": {
     "duration": 1.418695,
     "end_time": "2024-09-17T15:19:06.903917",
     "exception": false,
     "start_time": "2024-09-17T15:19:05.485222",
     "status": "completed"
    },
    "tags": []
   },
   "outputs": [],
   "source": [
    "from scipy import stats\n",
    "test_norm = stats.shapiro(df[df['Group'] == 'Test']['Purchase'])\n",
    "control_norm = stats.shapiro(df[df['Group'] == 'Control']['Purchase'])"
   ]
  },
  {
   "cell_type": "code",
   "execution_count": 8,
   "id": "1c409ed9",
   "metadata": {
    "execution": {
     "iopub.execute_input": "2024-09-17T15:19:06.918064Z",
     "iopub.status.busy": "2024-09-17T15:19:06.917490Z",
     "iopub.status.idle": "2024-09-17T15:19:06.925089Z",
     "shell.execute_reply": "2024-09-17T15:19:06.923808Z"
    },
    "papermill": {
     "duration": 0.017625,
     "end_time": "2024-09-17T15:19:06.927693",
     "exception": false,
     "start_time": "2024-09-17T15:19:06.910068",
     "status": "completed"
    },
    "tags": []
   },
   "outputs": [
    {
     "data": {
      "text/plain": [
       "0.5891071186294093"
      ]
     },
     "execution_count": 8,
     "metadata": {},
     "output_type": "execute_result"
    }
   ],
   "source": [
    "control_norm.pvalue"
   ]
  },
  {
   "cell_type": "code",
   "execution_count": 9,
   "id": "d9113898",
   "metadata": {
    "execution": {
     "iopub.execute_input": "2024-09-17T15:19:06.942059Z",
     "iopub.status.busy": "2024-09-17T15:19:06.941648Z",
     "iopub.status.idle": "2024-09-17T15:19:06.948540Z",
     "shell.execute_reply": "2024-09-17T15:19:06.947469Z"
    },
    "papermill": {
     "duration": 0.017078,
     "end_time": "2024-09-17T15:19:06.951077",
     "exception": false,
     "start_time": "2024-09-17T15:19:06.933999",
     "status": "completed"
    },
    "tags": []
   },
   "outputs": [
    {
     "data": {
      "text/plain": [
       "0.15413405050730578"
      ]
     },
     "execution_count": 9,
     "metadata": {},
     "output_type": "execute_result"
    }
   ],
   "source": [
    "test_norm.pvalue"
   ]
  },
  {
   "cell_type": "markdown",
   "id": "12d9df13",
   "metadata": {
    "papermill": {
     "duration": 0.005867,
     "end_time": "2024-09-17T15:19:06.963185",
     "exception": false,
     "start_time": "2024-09-17T15:19:06.957318",
     "status": "completed"
    },
    "tags": []
   },
   "source": [
    "Her iki grubun dağılımı da normal dağılıma uygundur (p > 0.05)"
   ]
  },
  {
   "cell_type": "markdown",
   "id": "9191fb97",
   "metadata": {
    "papermill": {
     "duration": 0.005812,
     "end_time": "2024-09-17T15:19:06.975092",
     "exception": false,
     "start_time": "2024-09-17T15:19:06.969280",
     "status": "completed"
    },
    "tags": []
   },
   "source": [
    "### Levene Varyans Homojenliği Testi"
   ]
  },
  {
   "cell_type": "markdown",
   "id": "6e78df68",
   "metadata": {
    "papermill": {
     "duration": 0.005817,
     "end_time": "2024-09-17T15:19:06.987161",
     "exception": false,
     "start_time": "2024-09-17T15:19:06.981344",
     "status": "completed"
    },
    "tags": []
   },
   "source": [
    "H0 : s1^2 = s2^2 ------- Kontrol ve test gruplarının **Purchase** değişkeninlerinin dağılımlarının varyansları birbirine **eşittir**.\n",
    "\n",
    "H1 : s1^2 != s2^2 ------ Kontrol ve test gruplarının **Purchase** değişkeninlerinin dağılımlarının varyansları birbirine **eşit değildir**."
   ]
  },
  {
   "cell_type": "code",
   "execution_count": 10,
   "id": "d638842b",
   "metadata": {
    "execution": {
     "iopub.execute_input": "2024-09-17T15:19:07.001123Z",
     "iopub.status.busy": "2024-09-17T15:19:07.000640Z",
     "iopub.status.idle": "2024-09-17T15:19:07.013870Z",
     "shell.execute_reply": "2024-09-17T15:19:07.012646Z"
    },
    "papermill": {
     "duration": 0.023245,
     "end_time": "2024-09-17T15:19:07.016515",
     "exception": false,
     "start_time": "2024-09-17T15:19:06.993270",
     "status": "completed"
    },
    "tags": []
   },
   "outputs": [],
   "source": [
    "levene_test = stats.levene(df[df['Group'] == 'Test']['Purchase'], df[df['Group'] == 'Control']['Purchase'])"
   ]
  },
  {
   "cell_type": "code",
   "execution_count": 11,
   "id": "10052fd5",
   "metadata": {
    "execution": {
     "iopub.execute_input": "2024-09-17T15:19:07.031465Z",
     "iopub.status.busy": "2024-09-17T15:19:07.030412Z",
     "iopub.status.idle": "2024-09-17T15:19:07.037848Z",
     "shell.execute_reply": "2024-09-17T15:19:07.036756Z"
    },
    "papermill": {
     "duration": 0.017357,
     "end_time": "2024-09-17T15:19:07.040153",
     "exception": false,
     "start_time": "2024-09-17T15:19:07.022796",
     "status": "completed"
    },
    "tags": []
   },
   "outputs": [
    {
     "data": {
      "text/plain": [
       "0.10828588271874791"
      ]
     },
     "execution_count": 11,
     "metadata": {},
     "output_type": "execute_result"
    }
   ],
   "source": [
    "levene_test.pvalue"
   ]
  },
  {
   "cell_type": "markdown",
   "id": "2f4e2e1c",
   "metadata": {
    "papermill": {
     "duration": 0.005978,
     "end_time": "2024-09-17T15:19:07.052802",
     "exception": false,
     "start_time": "2024-09-17T15:19:07.046824",
     "status": "completed"
    },
    "tags": []
   },
   "source": [
    "Varyans homojenliği varsayımı da sağlanır (p > 0.05). İki grup için parametrik yöntemler uygulanabilir."
   ]
  },
  {
   "cell_type": "markdown",
   "id": "ca6a3eed",
   "metadata": {
    "papermill": {
     "duration": 0.005979,
     "end_time": "2024-09-17T15:19:07.065044",
     "exception": false,
     "start_time": "2024-09-17T15:19:07.059065",
     "status": "completed"
    },
    "tags": []
   },
   "source": [
    "## Independent Samples T-Test"
   ]
  },
  {
   "cell_type": "markdown",
   "id": "0efcc8a2",
   "metadata": {
    "papermill": {
     "duration": 0.005949,
     "end_time": "2024-09-17T15:19:07.077527",
     "exception": false,
     "start_time": "2024-09-17T15:19:07.071578",
     "status": "completed"
    },
    "tags": []
   },
   "source": [
    "Hipotezleri Hatırlayalım:\n",
    "\n",
    "H0 : M1 = M2 ------- Kontrol ve test gruplarının **Purchase** değişkeninlerinin dağılımları arasında anlamlı bir fark **yoktur**.\n",
    "\n",
    "H1 : M1!= M2 ------- Kontrol ve test gruplarının **Purchase** değişkeninlerinin dağılımları arasında anlamlı bir fark **vardır**."
   ]
  },
  {
   "cell_type": "code",
   "execution_count": 12,
   "id": "209080de",
   "metadata": {
    "execution": {
     "iopub.execute_input": "2024-09-17T15:19:07.092875Z",
     "iopub.status.busy": "2024-09-17T15:19:07.091661Z",
     "iopub.status.idle": "2024-09-17T15:19:07.104570Z",
     "shell.execute_reply": "2024-09-17T15:19:07.103157Z"
    },
    "papermill": {
     "duration": 0.023247,
     "end_time": "2024-09-17T15:19:07.107150",
     "exception": false,
     "start_time": "2024-09-17T15:19:07.083903",
     "status": "completed"
    },
    "tags": []
   },
   "outputs": [],
   "source": [
    "t_statistic, p_value = stats.ttest_ind(df[df['Group'] == 'Test']['Purchase'], df[df['Group'] == 'Control']['Purchase'])"
   ]
  },
  {
   "cell_type": "code",
   "execution_count": 13,
   "id": "f9a0a002",
   "metadata": {
    "execution": {
     "iopub.execute_input": "2024-09-17T15:19:07.122019Z",
     "iopub.status.busy": "2024-09-17T15:19:07.121602Z",
     "iopub.status.idle": "2024-09-17T15:19:07.130285Z",
     "shell.execute_reply": "2024-09-17T15:19:07.128380Z"
    },
    "papermill": {
     "duration": 0.019741,
     "end_time": "2024-09-17T15:19:07.133209",
     "exception": false,
     "start_time": "2024-09-17T15:19:07.113468",
     "status": "completed"
    },
    "tags": []
   },
   "outputs": [
    {
     "data": {
      "text/plain": [
       "0.34932579202108416"
      ]
     },
     "execution_count": 13,
     "metadata": {},
     "output_type": "execute_result"
    }
   ],
   "source": [
    "p_value"
   ]
  },
  {
   "cell_type": "markdown",
   "id": "90c8ce34",
   "metadata": {
    "papermill": {
     "duration": 0.006046,
     "end_time": "2024-09-17T15:19:07.145947",
     "exception": false,
     "start_time": "2024-09-17T15:19:07.139901",
     "status": "completed"
    },
    "tags": []
   },
   "source": [
    "H0 hipotezi reddedilemez, Kontrol ve test gruplarının **Purchase** değişkeninlerinin dağılımları arasında anlamlı bir fark **yoktur** (p > 0.05).\n",
    "\n",
    "averagebidding'in, maximumbidding'den daha fazla dönüşüm getdiği söylenemez."
   ]
  }
 ],
 "metadata": {
  "kaggle": {
   "accelerator": "none",
   "dataSources": [
    {
     "datasetId": 5721797,
     "sourceId": 9420484,
     "sourceType": "datasetVersion"
    }
   ],
   "dockerImageVersionId": 30761,
   "isGpuEnabled": false,
   "isInternetEnabled": true,
   "language": "python",
   "sourceType": "notebook"
  },
  "kernelspec": {
   "display_name": "Python 3",
   "language": "python",
   "name": "python3"
  },
  "language_info": {
   "codemirror_mode": {
    "name": "ipython",
    "version": 3
   },
   "file_extension": ".py",
   "mimetype": "text/x-python",
   "name": "python",
   "nbconvert_exporter": "python",
   "pygments_lexer": "ipython3",
   "version": "3.10.14"
  },
  "papermill": {
   "default_parameters": {},
   "duration": 6.218199,
   "end_time": "2024-09-17T15:19:07.774259",
   "environment_variables": {},
   "exception": null,
   "input_path": "__notebook__.ipynb",
   "output_path": "__notebook__.ipynb",
   "parameters": {},
   "start_time": "2024-09-17T15:19:01.556060",
   "version": "2.6.0"
  }
 },
 "nbformat": 4,
 "nbformat_minor": 5
}
