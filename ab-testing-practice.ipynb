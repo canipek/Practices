{
 "cells": [
  {
   "cell_type": "code",
   "execution_count": 1,
   "id": "54e0b7fa",
   "metadata": {
    "_cell_guid": "b1076dfc-b9ad-4769-8c92-a6c4dae69d19",
    "_uuid": "8f2839f25d086af736a60e9eeb907d3b93b6e0e5",
    "execution": {
     "iopub.execute_input": "2024-09-17T15:21:28.845720Z",
     "iopub.status.busy": "2024-09-17T15:21:28.845163Z",
     "iopub.status.idle": "2024-09-17T15:21:29.336896Z",
     "shell.execute_reply": "2024-09-17T15:21:29.335626Z"
    },
    "papermill": {
     "duration": 0.504869,
     "end_time": "2024-09-17T15:21:29.339605",
     "exception": false,
     "start_time": "2024-09-17T15:21:28.834736",
     "status": "completed"
    },
    "tags": []
   },
   "outputs": [
    {
     "name": "stdout",
     "output_type": "stream",
     "text": [
      "/kaggle/input/ab-testing/ab_testing.xlsx\n"
     ]
    }
   ],
   "source": [
    "import numpy as np\n",
    "import pandas as pd\n",
    "\n",
    "import os\n",
    "for dirname, _, filenames in os.walk('/kaggle/input'):\n",
    "    for filename in filenames:\n",
    "        print(os.path.join(dirname, filename))"
   ]
  },
  {
   "cell_type": "code",
   "execution_count": 2,
   "id": "f73b016e",
   "metadata": {
    "execution": {
     "iopub.execute_input": "2024-09-17T15:21:29.358167Z",
     "iopub.status.busy": "2024-09-17T15:21:29.357549Z",
     "iopub.status.idle": "2024-09-17T15:21:29.815361Z",
     "shell.execute_reply": "2024-09-17T15:21:29.814180Z"
    },
    "papermill": {
     "duration": 0.470311,
     "end_time": "2024-09-17T15:21:29.818348",
     "exception": false,
     "start_time": "2024-09-17T15:21:29.348037",
     "status": "completed"
    },
    "tags": []
   },
   "outputs": [],
   "source": [
    "df_c = pd.read_excel('/kaggle/input/ab-testing/ab_testing.xlsx', sheet_name = 'Control Group')\n",
    "df_t = pd.read_excel('/kaggle/input/ab-testing/ab_testing.xlsx', sheet_name = 'Test Group')\n",
    "df_c['Group'] = 'Control'\n",
    "df_t['Group'] = 'Test'"
   ]
  },
  {
   "cell_type": "code",
   "execution_count": 3,
   "id": "afb79c44",
   "metadata": {
    "execution": {
     "iopub.execute_input": "2024-09-17T15:21:29.837224Z",
     "iopub.status.busy": "2024-09-17T15:21:29.836445Z",
     "iopub.status.idle": "2024-09-17T15:21:29.858153Z",
     "shell.execute_reply": "2024-09-17T15:21:29.856847Z"
    },
    "papermill": {
     "duration": 0.034531,
     "end_time": "2024-09-17T15:21:29.860748",
     "exception": false,
     "start_time": "2024-09-17T15:21:29.826217",
     "status": "completed"
    },
    "tags": []
   },
   "outputs": [
    {
     "data": {
      "text/html": [
       "<div>\n",
       "<style scoped>\n",
       "    .dataframe tbody tr th:only-of-type {\n",
       "        vertical-align: middle;\n",
       "    }\n",
       "\n",
       "    .dataframe tbody tr th {\n",
       "        vertical-align: top;\n",
       "    }\n",
       "\n",
       "    .dataframe thead th {\n",
       "        text-align: right;\n",
       "    }\n",
       "</style>\n",
       "<table border=\"1\" class=\"dataframe\">\n",
       "  <thead>\n",
       "    <tr style=\"text-align: right;\">\n",
       "      <th></th>\n",
       "      <th>Impression</th>\n",
       "      <th>Click</th>\n",
       "      <th>Purchase</th>\n",
       "      <th>Earning</th>\n",
       "      <th>Group</th>\n",
       "    </tr>\n",
       "  </thead>\n",
       "  <tbody>\n",
       "    <tr>\n",
       "      <th>0</th>\n",
       "      <td>82529.459271</td>\n",
       "      <td>6090.077317</td>\n",
       "      <td>665.211255</td>\n",
       "      <td>2311.277143</td>\n",
       "      <td>Control</td>\n",
       "    </tr>\n",
       "    <tr>\n",
       "      <th>1</th>\n",
       "      <td>98050.451926</td>\n",
       "      <td>3382.861786</td>\n",
       "      <td>315.084895</td>\n",
       "      <td>1742.806855</td>\n",
       "      <td>Control</td>\n",
       "    </tr>\n",
       "    <tr>\n",
       "      <th>2</th>\n",
       "      <td>82696.023549</td>\n",
       "      <td>4167.965750</td>\n",
       "      <td>458.083738</td>\n",
       "      <td>1797.827447</td>\n",
       "      <td>Control</td>\n",
       "    </tr>\n",
       "    <tr>\n",
       "      <th>3</th>\n",
       "      <td>109914.400398</td>\n",
       "      <td>4910.882240</td>\n",
       "      <td>487.090773</td>\n",
       "      <td>1696.229178</td>\n",
       "      <td>Control</td>\n",
       "    </tr>\n",
       "    <tr>\n",
       "      <th>4</th>\n",
       "      <td>108457.762630</td>\n",
       "      <td>5987.655811</td>\n",
       "      <td>441.034050</td>\n",
       "      <td>1543.720179</td>\n",
       "      <td>Control</td>\n",
       "    </tr>\n",
       "  </tbody>\n",
       "</table>\n",
       "</div>"
      ],
      "text/plain": [
       "      Impression        Click    Purchase      Earning    Group\n",
       "0   82529.459271  6090.077317  665.211255  2311.277143  Control\n",
       "1   98050.451926  3382.861786  315.084895  1742.806855  Control\n",
       "2   82696.023549  4167.965750  458.083738  1797.827447  Control\n",
       "3  109914.400398  4910.882240  487.090773  1696.229178  Control\n",
       "4  108457.762630  5987.655811  441.034050  1543.720179  Control"
      ]
     },
     "execution_count": 3,
     "metadata": {},
     "output_type": "execute_result"
    }
   ],
   "source": [
    "df_c.head()"
   ]
  },
  {
   "cell_type": "code",
   "execution_count": 4,
   "id": "595c5a1b",
   "metadata": {
    "execution": {
     "iopub.execute_input": "2024-09-17T15:21:29.878854Z",
     "iopub.status.busy": "2024-09-17T15:21:29.878373Z",
     "iopub.status.idle": "2024-09-17T15:21:29.885286Z",
     "shell.execute_reply": "2024-09-17T15:21:29.883897Z"
    },
    "papermill": {
     "duration": 0.018949,
     "end_time": "2024-09-17T15:21:29.887872",
     "exception": false,
     "start_time": "2024-09-17T15:21:29.868923",
     "status": "completed"
    },
    "tags": []
   },
   "outputs": [],
   "source": [
    "df = pd.concat([df_c, df_t])"
   ]
  },
  {
   "cell_type": "code",
   "execution_count": 5,
   "id": "7addddf6",
   "metadata": {
    "execution": {
     "iopub.execute_input": "2024-09-17T15:21:29.907801Z",
     "iopub.status.busy": "2024-09-17T15:21:29.906473Z",
     "iopub.status.idle": "2024-09-17T15:21:29.922378Z",
     "shell.execute_reply": "2024-09-17T15:21:29.921178Z"
    },
    "papermill": {
     "duration": 0.028775,
     "end_time": "2024-09-17T15:21:29.925220",
     "exception": false,
     "start_time": "2024-09-17T15:21:29.896445",
     "status": "completed"
    },
    "tags": []
   },
   "outputs": [
    {
     "data": {
      "text/html": [
       "<div>\n",
       "<style scoped>\n",
       "    .dataframe tbody tr th:only-of-type {\n",
       "        vertical-align: middle;\n",
       "    }\n",
       "\n",
       "    .dataframe tbody tr th {\n",
       "        vertical-align: top;\n",
       "    }\n",
       "\n",
       "    .dataframe thead th {\n",
       "        text-align: right;\n",
       "    }\n",
       "</style>\n",
       "<table border=\"1\" class=\"dataframe\">\n",
       "  <thead>\n",
       "    <tr style=\"text-align: right;\">\n",
       "      <th></th>\n",
       "      <th>Impression</th>\n",
       "      <th>Click</th>\n",
       "      <th>Purchase</th>\n",
       "      <th>Earning</th>\n",
       "      <th>Group</th>\n",
       "    </tr>\n",
       "  </thead>\n",
       "  <tbody>\n",
       "    <tr>\n",
       "      <th>0</th>\n",
       "      <td>82529.459271</td>\n",
       "      <td>6090.077317</td>\n",
       "      <td>665.211255</td>\n",
       "      <td>2311.277143</td>\n",
       "      <td>Control</td>\n",
       "    </tr>\n",
       "    <tr>\n",
       "      <th>1</th>\n",
       "      <td>98050.451926</td>\n",
       "      <td>3382.861786</td>\n",
       "      <td>315.084895</td>\n",
       "      <td>1742.806855</td>\n",
       "      <td>Control</td>\n",
       "    </tr>\n",
       "    <tr>\n",
       "      <th>2</th>\n",
       "      <td>82696.023549</td>\n",
       "      <td>4167.965750</td>\n",
       "      <td>458.083738</td>\n",
       "      <td>1797.827447</td>\n",
       "      <td>Control</td>\n",
       "    </tr>\n",
       "    <tr>\n",
       "      <th>3</th>\n",
       "      <td>109914.400398</td>\n",
       "      <td>4910.882240</td>\n",
       "      <td>487.090773</td>\n",
       "      <td>1696.229178</td>\n",
       "      <td>Control</td>\n",
       "    </tr>\n",
       "    <tr>\n",
       "      <th>4</th>\n",
       "      <td>108457.762630</td>\n",
       "      <td>5987.655811</td>\n",
       "      <td>441.034050</td>\n",
       "      <td>1543.720179</td>\n",
       "      <td>Control</td>\n",
       "    </tr>\n",
       "  </tbody>\n",
       "</table>\n",
       "</div>"
      ],
      "text/plain": [
       "      Impression        Click    Purchase      Earning    Group\n",
       "0   82529.459271  6090.077317  665.211255  2311.277143  Control\n",
       "1   98050.451926  3382.861786  315.084895  1742.806855  Control\n",
       "2   82696.023549  4167.965750  458.083738  1797.827447  Control\n",
       "3  109914.400398  4910.882240  487.090773  1696.229178  Control\n",
       "4  108457.762630  5987.655811  441.034050  1543.720179  Control"
      ]
     },
     "execution_count": 5,
     "metadata": {},
     "output_type": "execute_result"
    }
   ],
   "source": [
    "df.head()"
   ]
  },
  {
   "cell_type": "markdown",
   "id": "3f44024f",
   "metadata": {
    "papermill": {
     "duration": 0.008018,
     "end_time": "2024-09-17T15:21:29.941648",
     "exception": false,
     "start_time": "2024-09-17T15:21:29.933630",
     "status": "completed"
    },
    "tags": []
   },
   "source": [
    "H0 : M1 = M2 ------- Kontrol ve test gruplarının **Purchase** değişkeninlerinin dağılımları arasında anlamlı bir fark **yoktur**.\n",
    "\n",
    "H1 : M1!= M2 ------- Kontrol ve test gruplarının **Purchase** değişkeninlerinin dağılımları arasında anlamlı bir fark **vardır**."
   ]
  },
  {
   "cell_type": "code",
   "execution_count": 6,
   "id": "4012a856",
   "metadata": {
    "execution": {
     "iopub.execute_input": "2024-09-17T15:21:29.960430Z",
     "iopub.status.busy": "2024-09-17T15:21:29.960017Z",
     "iopub.status.idle": "2024-09-17T15:21:29.973061Z",
     "shell.execute_reply": "2024-09-17T15:21:29.971730Z"
    },
    "papermill": {
     "duration": 0.026145,
     "end_time": "2024-09-17T15:21:29.976534",
     "exception": false,
     "start_time": "2024-09-17T15:21:29.950389",
     "status": "completed"
    },
    "tags": []
   },
   "outputs": [
    {
     "name": "stdout",
     "output_type": "stream",
     "text": [
      "550.8940587702316 582.1060966484677\n"
     ]
    }
   ],
   "source": [
    "print(df[df['Group'] == 'Control']['Purchase'].mean(), df[df['Group'] == 'Test']['Purchase'].mean())"
   ]
  },
  {
   "cell_type": "code",
   "execution_count": 7,
   "id": "9b5d4e8e",
   "metadata": {
    "execution": {
     "iopub.execute_input": "2024-09-17T15:21:29.995289Z",
     "iopub.status.busy": "2024-09-17T15:21:29.994874Z",
     "iopub.status.idle": "2024-09-17T15:21:32.267547Z",
     "shell.execute_reply": "2024-09-17T15:21:32.266145Z"
    },
    "papermill": {
     "duration": 2.285371,
     "end_time": "2024-09-17T15:21:32.270437",
     "exception": false,
     "start_time": "2024-09-17T15:21:29.985066",
     "status": "completed"
    },
    "tags": []
   },
   "outputs": [
    {
     "data": {
      "text/plain": [
       "<Axes: xlabel='Group', ylabel='Purchase'>"
      ]
     },
     "execution_count": 7,
     "metadata": {},
     "output_type": "execute_result"
    },
    {
     "data": {
      "image/png": "[encoded data removed]",
      "text/plain": [
       "<Figure size 640x480 with 1 Axes>"
      ]
     },
     "metadata": {},
     "output_type": "display_data"
    }
   ],
   "source": [
    "import seaborn as sns\n",
    "sns.boxplot(data=df, y = 'Purchase', x='Group')"
   ]
  },
  {
   "cell_type": "markdown",
   "id": "c1631e19",
   "metadata": {
    "papermill": {
     "duration": 0.008702,
     "end_time": "2024-09-17T15:21:32.288146",
     "exception": false,
     "start_time": "2024-09-17T15:21:32.279444",
     "status": "completed"
    },
    "tags": []
   },
   "source": [
    "## Varsayım Kontrolleri"
   ]
  },
  {
   "cell_type": "markdown",
   "id": "0bfbb5a1",
   "metadata": {
    "papermill": {
     "duration": 0.008585,
     "end_time": "2024-09-17T15:21:32.305690",
     "exception": false,
     "start_time": "2024-09-17T15:21:32.297105",
     "status": "completed"
    },
    "tags": []
   },
   "source": [
    "### Shapiro-Wilk Normal dağılıma uygunluk Testi"
   ]
  },
  {
   "cell_type": "markdown",
   "id": "7fbbf30a",
   "metadata": {
    "papermill": {
     "duration": 0.008548,
     "end_time": "2024-09-17T15:21:32.323356",
     "exception": false,
     "start_time": "2024-09-17T15:21:32.314808",
     "status": "completed"
    },
    "tags": []
   },
   "source": [
    "H0 : M = N(x, s) ------- Kontrol ve test gruplarının **Purchase** değişkeninlerinin dağılımları normal dağılıma **uygundur**.\n",
    "\n",
    "H1 : M != N(x, s) ------ Kontrol ve test gruplarının **Purchase** değişkeninlerinin dağılımları normal dağılıma **uygun değildir**."
   ]
  },
  {
   "cell_type": "code",
   "execution_count": 8,
   "id": "25c888d5",
   "metadata": {
    "execution": {
     "iopub.execute_input": "2024-09-17T15:21:32.343426Z",
     "iopub.status.busy": "2024-09-17T15:21:32.342669Z",
     "iopub.status.idle": "2024-09-17T15:21:32.353711Z",
     "shell.execute_reply": "2024-09-17T15:21:32.352290Z"
    },
    "papermill": {
     "duration": 0.024032,
     "end_time": "2024-09-17T15:21:32.356328",
     "exception": false,
     "start_time": "2024-09-17T15:21:32.332296",
     "status": "completed"
    },
    "tags": []
   },
   "outputs": [],
   "source": [
    "from scipy import stats\n",
    "test_norm = stats.shapiro(df[df['Group'] == 'Test']['Purchase'])\n",
    "control_norm = stats.shapiro(df[df['Group'] == 'Control']['Purchase'])"
   ]
  },
  {
   "cell_type": "code",
   "execution_count": 9,
   "id": "3f1ecdee",
   "metadata": {
    "execution": {
     "iopub.execute_input": "2024-09-17T15:21:32.377292Z",
     "iopub.status.busy": "2024-09-17T15:21:32.376795Z",
     "iopub.status.idle": "2024-09-17T15:21:32.384612Z",
     "shell.execute_reply": "2024-09-17T15:21:32.383372Z"
    },
    "papermill": {
     "duration": 0.021763,
     "end_time": "2024-09-17T15:21:32.387496",
     "exception": false,
     "start_time": "2024-09-17T15:21:32.365733",
     "status": "completed"
    },
    "tags": []
   },
   "outputs": [
    {
     "data": {
      "text/plain": [
       "0.5891071186294093"
      ]
     },
     "execution_count": 9,
     "metadata": {},
     "output_type": "execute_result"
    }
   ],
   "source": [
    "control_norm.pvalue"
   ]
  },
  {
   "cell_type": "code",
   "execution_count": 10,
   "id": "834bc811",
   "metadata": {
    "execution": {
     "iopub.execute_input": "2024-09-17T15:21:32.408252Z",
     "iopub.status.busy": "2024-09-17T15:21:32.407803Z",
     "iopub.status.idle": "2024-09-17T15:21:32.415787Z",
     "shell.execute_reply": "2024-09-17T15:21:32.414598Z"
    },
    "papermill": {
     "duration": 0.02177,
     "end_time": "2024-09-17T15:21:32.418457",
     "exception": false,
     "start_time": "2024-09-17T15:21:32.396687",
     "status": "completed"
    },
    "tags": []
   },
   "outputs": [
    {
     "data": {
      "text/plain": [
       "0.15413405050730578"
      ]
     },
     "execution_count": 10,
     "metadata": {},
     "output_type": "execute_result"
    }
   ],
   "source": [
    "test_norm.pvalue"
   ]
  },
  {
   "cell_type": "markdown",
   "id": "e783df7e",
   "metadata": {
    "papermill": {
     "duration": 0.009992,
     "end_time": "2024-09-17T15:21:32.437926",
     "exception": false,
     "start_time": "2024-09-17T15:21:32.427934",
     "status": "completed"
    },
    "tags": []
   },
   "source": [
    "Her iki grubun dağılımı da normal dağılıma uygundur (p > 0.05)"
   ]
  },
  {
   "cell_type": "markdown",
   "id": "f58ec3c7",
   "metadata": {
    "papermill": {
     "duration": 0.00985,
     "end_time": "2024-09-17T15:21:32.458124",
     "exception": false,
     "start_time": "2024-09-17T15:21:32.448274",
     "status": "completed"
    },
    "tags": []
   },
   "source": [
    "### Levene Varyans Homojenliği Testi"
   ]
  },
  {
   "cell_type": "markdown",
   "id": "513f219e",
   "metadata": {
    "papermill": {
     "duration": 0.009089,
     "end_time": "2024-09-17T15:21:32.476796",
     "exception": false,
     "start_time": "2024-09-17T15:21:32.467707",
     "status": "completed"
    },
    "tags": []
   },
   "source": [
    "H0 : s1^2 = s2^2 ------- Kontrol ve test gruplarının **Purchase** değişkeninlerinin dağılımlarının varyansları birbirine **eşittir**.\n",
    "\n",
    "H1 : s1^2 != s2^2 ------ Kontrol ve test gruplarının **Purchase** değişkeninlerinin dağılımlarının varyansları birbirine **eşit değildir**."
   ]
  },
  {
   "cell_type": "code",
   "execution_count": 11,
   "id": "9086660b",
   "metadata": {
    "execution": {
     "iopub.execute_input": "2024-09-17T15:21:32.498442Z",
     "iopub.status.busy": "2024-09-17T15:21:32.497931Z",
     "iopub.status.idle": "2024-09-17T15:21:32.512641Z",
     "shell.execute_reply": "2024-09-17T15:21:32.511341Z"
    },
    "papermill": {
     "duration": 0.028824,
     "end_time": "2024-09-17T15:21:32.515877",
     "exception": false,
     "start_time": "2024-09-17T15:21:32.487053",
     "status": "completed"
    },
    "tags": []
   },
   "outputs": [],
   "source": [
    "levene_test = stats.levene(df[df['Group'] == 'Test']['Purchase'], df[df['Group'] == 'Control']['Purchase'])"
   ]
  },
  {
   "cell_type": "code",
   "execution_count": 12,
   "id": "615aa3ab",
   "metadata": {
    "execution": {
     "iopub.execute_input": "2024-09-17T15:21:32.541166Z",
     "iopub.status.busy": "2024-09-17T15:21:32.539738Z",
     "iopub.status.idle": "2024-09-17T15:21:32.548409Z",
     "shell.execute_reply": "2024-09-17T15:21:32.546907Z"
    },
    "papermill": {
     "duration": 0.026334,
     "end_time": "2024-09-17T15:21:32.551976",
     "exception": false,
     "start_time": "2024-09-17T15:21:32.525642",
     "status": "completed"
    },
    "tags": []
   },
   "outputs": [
    {
     "data": {
      "text/plain": [
       "0.10828588271874791"
      ]
     },
     "execution_count": 12,
     "metadata": {},
     "output_type": "execute_result"
    }
   ],
   "source": [
    "levene_test.pvalue"
   ]
  },
  {
   "cell_type": "markdown",
   "id": "d1e745c2",
   "metadata": {
    "papermill": {
     "duration": 0.009143,
     "end_time": "2024-09-17T15:21:32.570672",
     "exception": false,
     "start_time": "2024-09-17T15:21:32.561529",
     "status": "completed"
    },
    "tags": []
   },
   "source": [
    "Varyans homojenliği varsayımı da sağlanır (p > 0.05). İki grup için parametrik yöntemler uygulanabilir."
   ]
  },
  {
   "cell_type": "markdown",
   "id": "9bbcb1bb",
   "metadata": {
    "papermill": {
     "duration": 0.010235,
     "end_time": "2024-09-17T15:21:32.592180",
     "exception": false,
     "start_time": "2024-09-17T15:21:32.581945",
     "status": "completed"
    },
    "tags": []
   },
   "source": [
    "## Independent Samples T-Test"
   ]
  },
  {
   "cell_type": "markdown",
   "id": "f5251df9",
   "metadata": {
    "papermill": {
     "duration": 0.009048,
     "end_time": "2024-09-17T15:21:32.610736",
     "exception": false,
     "start_time": "2024-09-17T15:21:32.601688",
     "status": "completed"
    },
    "tags": []
   },
   "source": [
    "Hipotezleri Hatırlayalım:\n",
    "\n",
    "H0 : M1 = M2 ------- Kontrol ve test gruplarının **Purchase** değişkeninlerinin dağılımları arasında anlamlı bir fark **yoktur**.\n",
    "\n",
    "H1 : M1!= M2 ------- Kontrol ve test gruplarının **Purchase** değişkeninlerinin dağılımları arasında anlamlı bir fark **vardır**."
   ]
  },
  {
   "cell_type": "code",
   "execution_count": 13,
   "id": "b08e3140",
   "metadata": {
    "execution": {
     "iopub.execute_input": "2024-09-17T15:21:32.631460Z",
     "iopub.status.busy": "2024-09-17T15:21:32.631019Z",
     "iopub.status.idle": "2024-09-17T15:21:32.642741Z",
     "shell.execute_reply": "2024-09-17T15:21:32.641359Z"
    },
    "papermill": {
     "duration": 0.025193,
     "end_time": "2024-09-17T15:21:32.645410",
     "exception": false,
     "start_time": "2024-09-17T15:21:32.620217",
     "status": "completed"
    },
    "tags": []
   },
   "outputs": [],
   "source": [
    "t_statistic, p_value = stats.ttest_ind(df[df['Group'] == 'Test']['Purchase'], df[df['Group'] == 'Control']['Purchase'])"
   ]
  },
  {
   "cell_type": "code",
   "execution_count": 14,
   "id": "592b01b7",
   "metadata": {
    "execution": {
     "iopub.execute_input": "2024-09-17T15:21:32.667715Z",
     "iopub.status.busy": "2024-09-17T15:21:32.665664Z",
     "iopub.status.idle": "2024-09-17T15:21:32.674764Z",
     "shell.execute_reply": "2024-09-17T15:21:32.673522Z"
    },
    "papermill": {
     "duration": 0.022903,
     "end_time": "2024-09-17T15:21:32.677797",
     "exception": false,
     "start_time": "2024-09-17T15:21:32.654894",
     "status": "completed"
    },
    "tags": []
   },
   "outputs": [
    {
     "data": {
      "text/plain": [
       "0.34932579202108416"
      ]
     },
     "execution_count": 14,
     "metadata": {},
     "output_type": "execute_result"
    }
   ],
   "source": [
    "p_value"
   ]
  },
  {
   "cell_type": "markdown",
   "id": "6a31f6bf",
   "metadata": {
    "papermill": {
     "duration": 0.009153,
     "end_time": "2024-09-17T15:21:32.696787",
     "exception": false,
     "start_time": "2024-09-17T15:21:32.687634",
     "status": "completed"
    },
    "tags": []
   },
   "source": [
    "H0 hipotezi reddedilemez, Kontrol ve test gruplarının **Purchase** değişkeninlerinin dağılımları arasında anlamlı bir fark **yoktur** (p > 0.05).\n",
    "\n",
    "averagebidding'in, maximumbidding'den daha fazla dönüşüm getdiği söylenemez."
   ]
  }
 ],
 "metadata": {
  "kaggle": {
   "accelerator": "none",
   "dataSources": [
    {
     "datasetId": 5721797,
     "sourceId": 9420484,
     "sourceType": "datasetVersion"
    }
   ],
   "dockerImageVersionId": 30761,
   "isGpuEnabled": false,
   "isInternetEnabled": true,
   "language": "python",
   "sourceType": "notebook"
  },
  "kernelspec": {
   "display_name": "Python 3",
   "language": "python",
   "name": "python3"
  },
  "language_info": {
   "codemirror_mode": {
    "name": "ipython",
    "version": 3
   },
   "file_extension": ".py",
   "mimetype": "text/x-python",
   "name": "python",
   "nbconvert_exporter": "python",
   "pygments_lexer": "ipython3",
   "version": "3.10.14"
  },
  "papermill": {
   "default_parameters": {},
   "duration": 7.808229,
   "end_time": "2024-09-17T15:21:33.430803",
   "environment_variables": {},
   "exception": null,
   "input_path": "__notebook__.ipynb",
   "output_path": "__notebook__.ipynb",
   "parameters": {},
   "start_time": "2024-09-17T15:21:25.622574",
   "version": "2.6.0"
  }
 },
 "nbformat": 4,
 "nbformat_minor": 5
}
