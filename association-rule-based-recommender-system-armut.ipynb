{
 "cells": [
  {
   "cell_type": "code",
   "execution_count": 1,
   "id": "6f6678a7",
   "metadata": {
    "_cell_guid": "b1076dfc-b9ad-4769-8c92-a6c4dae69d19",
    "_uuid": "8f2839f25d086af736a60e9eeb907d3b93b6e0e5",
    "execution": {
     "iopub.execute_input": "2024-10-13T20:06:17.216697Z",
     "iopub.status.busy": "2024-10-13T20:06:17.216242Z",
     "iopub.status.idle": "2024-10-13T20:06:18.032633Z",
     "shell.execute_reply": "2024-10-13T20:06:18.031567Z"
    },
    "papermill": {
     "duration": 0.825195,
     "end_time": "2024-10-13T20:06:18.035364",
     "exception": false,
     "start_time": "2024-10-13T20:06:17.210169",
     "status": "completed"
    },
    "tags": []
   },
   "outputs": [
    {
     "name": "stdout",
     "output_type": "stream",
     "text": [
      "/kaggle/input/armut-data/armut_data.csv\n"
     ]
    }
   ],
   "source": [
    "import numpy as np # linear algebra\n",
    "import pandas as pd # data processing, CSV file I/O (e.g. pd.read_csv)\n",
    "\n",
    "import os\n",
    "for dirname, _, filenames in os.walk('/kaggle/input'):\n",
    "    for filename in filenames:\n",
    "        print(os.path.join(dirname, filename))"
   ]
  },
  {
   "cell_type": "code",
   "execution_count": 2,
   "id": "496e7fc5",
   "metadata": {
    "execution": {
     "iopub.execute_input": "2024-10-13T20:06:18.045711Z",
     "iopub.status.busy": "2024-10-13T20:06:18.044756Z",
     "iopub.status.idle": "2024-10-13T20:06:18.251742Z",
     "shell.execute_reply": "2024-10-13T20:06:18.250562Z"
    },
    "papermill": {
     "duration": 0.21477,
     "end_time": "2024-10-13T20:06:18.254322",
     "exception": false,
     "start_time": "2024-10-13T20:06:18.039552",
     "status": "completed"
    },
    "tags": []
   },
   "outputs": [],
   "source": [
    "df = pd.read_csv(\"/kaggle/input/armut-data/armut_data.csv\")"
   ]
  },
  {
   "cell_type": "code",
   "execution_count": 3,
   "id": "9d79a203",
   "metadata": {
    "execution": {
     "iopub.execute_input": "2024-10-13T20:06:18.263861Z",
     "iopub.status.busy": "2024-10-13T20:06:18.263458Z",
     "iopub.status.idle": "2024-10-13T20:06:18.282046Z",
     "shell.execute_reply": "2024-10-13T20:06:18.281057Z"
    },
    "papermill": {
     "duration": 0.025986,
     "end_time": "2024-10-13T20:06:18.284286",
     "exception": false,
     "start_time": "2024-10-13T20:06:18.258300",
     "status": "completed"
    },
    "tags": []
   },
   "outputs": [
    {
     "data": {
      "text/html": [
       "<div>\n",
       "<style scoped>\n",
       "    .dataframe tbody tr th:only-of-type {\n",
       "        vertical-align: middle;\n",
       "    }\n",
       "\n",
       "    .dataframe tbody tr th {\n",
       "        vertical-align: top;\n",
       "    }\n",
       "\n",
       "    .dataframe thead th {\n",
       "        text-align: right;\n",
       "    }\n",
       "</style>\n",
       "<table border=\"1\" class=\"dataframe\">\n",
       "  <thead>\n",
       "    <tr style=\"text-align: right;\">\n",
       "      <th></th>\n",
       "      <th>UserId</th>\n",
       "      <th>ServiceId</th>\n",
       "      <th>CategoryId</th>\n",
       "      <th>CreateDate</th>\n",
       "    </tr>\n",
       "  </thead>\n",
       "  <tbody>\n",
       "    <tr>\n",
       "      <th>0</th>\n",
       "      <td>25446</td>\n",
       "      <td>4</td>\n",
       "      <td>5</td>\n",
       "      <td>2017-08-06 16:11:00</td>\n",
       "    </tr>\n",
       "    <tr>\n",
       "      <th>1</th>\n",
       "      <td>22948</td>\n",
       "      <td>48</td>\n",
       "      <td>5</td>\n",
       "      <td>2017-08-06 16:12:00</td>\n",
       "    </tr>\n",
       "    <tr>\n",
       "      <th>2</th>\n",
       "      <td>10618</td>\n",
       "      <td>0</td>\n",
       "      <td>8</td>\n",
       "      <td>2017-08-06 16:13:00</td>\n",
       "    </tr>\n",
       "    <tr>\n",
       "      <th>3</th>\n",
       "      <td>7256</td>\n",
       "      <td>9</td>\n",
       "      <td>4</td>\n",
       "      <td>2017-08-06 16:14:00</td>\n",
       "    </tr>\n",
       "    <tr>\n",
       "      <th>4</th>\n",
       "      <td>25446</td>\n",
       "      <td>48</td>\n",
       "      <td>5</td>\n",
       "      <td>2017-08-06 16:16:00</td>\n",
       "    </tr>\n",
       "  </tbody>\n",
       "</table>\n",
       "</div>"
      ],
      "text/plain": [
       "   UserId  ServiceId  CategoryId           CreateDate\n",
       "0   25446          4           5  2017-08-06 16:11:00\n",
       "1   22948         48           5  2017-08-06 16:12:00\n",
       "2   10618          0           8  2017-08-06 16:13:00\n",
       "3    7256          9           4  2017-08-06 16:14:00\n",
       "4   25446         48           5  2017-08-06 16:16:00"
      ]
     },
     "execution_count": 3,
     "metadata": {},
     "output_type": "execute_result"
    }
   ],
   "source": [
    "df.head()"
   ]
  },
  {
   "cell_type": "code",
   "execution_count": 4,
   "id": "6725d7fb",
   "metadata": {
    "execution": {
     "iopub.execute_input": "2024-10-13T20:06:18.294403Z",
     "iopub.status.busy": "2024-10-13T20:06:18.293587Z",
     "iopub.status.idle": "2024-10-13T20:06:18.325693Z",
     "shell.execute_reply": "2024-10-13T20:06:18.324433Z"
    },
    "papermill": {
     "duration": 0.039615,
     "end_time": "2024-10-13T20:06:18.328080",
     "exception": false,
     "start_time": "2024-10-13T20:06:18.288465",
     "status": "completed"
    },
    "tags": []
   },
   "outputs": [
    {
     "name": "stdout",
     "output_type": "stream",
     "text": [
      "<class 'pandas.core.frame.DataFrame'>\n",
      "RangeIndex: 162523 entries, 0 to 162522\n",
      "Data columns (total 4 columns):\n",
      " #   Column      Non-Null Count   Dtype \n",
      "---  ------      --------------   ----- \n",
      " 0   UserId      162523 non-null  int64 \n",
      " 1   ServiceId   162523 non-null  int64 \n",
      " 2   CategoryId  162523 non-null  int64 \n",
      " 3   CreateDate  162523 non-null  object\n",
      "dtypes: int64(3), object(1)\n",
      "memory usage: 5.0+ MB\n"
     ]
    }
   ],
   "source": [
    "df.info()"
   ]
  },
  {
   "cell_type": "code",
   "execution_count": 5,
   "id": "5ddc1b47",
   "metadata": {
    "execution": {
     "iopub.execute_input": "2024-10-13T20:06:18.338123Z",
     "iopub.status.busy": "2024-10-13T20:06:18.337746Z",
     "iopub.status.idle": "2024-10-13T20:06:18.470974Z",
     "shell.execute_reply": "2024-10-13T20:06:18.470073Z"
    },
    "papermill": {
     "duration": 0.141284,
     "end_time": "2024-10-13T20:06:18.473567",
     "exception": false,
     "start_time": "2024-10-13T20:06:18.332283",
     "status": "completed"
    },
    "tags": []
   },
   "outputs": [],
   "source": [
    "df['Hizmet'] = df['ServiceId'].astype(str) + '_' + df['CategoryId'].astype(str)"
   ]
  },
  {
   "cell_type": "code",
   "execution_count": 6,
   "id": "8223eb58",
   "metadata": {
    "execution": {
     "iopub.execute_input": "2024-10-13T20:06:18.483591Z",
     "iopub.status.busy": "2024-10-13T20:06:18.482950Z",
     "iopub.status.idle": "2024-10-13T20:06:18.773393Z",
     "shell.execute_reply": "2024-10-13T20:06:18.772352Z"
    },
    "papermill": {
     "duration": 0.298242,
     "end_time": "2024-10-13T20:06:18.775999",
     "exception": false,
     "start_time": "2024-10-13T20:06:18.477757",
     "status": "completed"
    },
    "tags": []
   },
   "outputs": [],
   "source": [
    "df[\"New_Date\"] = pd.to_datetime(df[\"CreateDate\"]).dt.to_period(\"M\")\n",
    "df['SepetID'] = df['UserId'].astype(str) + '_' + df[\"New_Date\"].astype(str)"
   ]
  },
  {
   "cell_type": "code",
   "execution_count": 7,
   "id": "aa7ffa40",
   "metadata": {
    "execution": {
     "iopub.execute_input": "2024-10-13T20:06:18.785898Z",
     "iopub.status.busy": "2024-10-13T20:06:18.785527Z",
     "iopub.status.idle": "2024-10-13T20:06:21.194216Z",
     "shell.execute_reply": "2024-10-13T20:06:21.193042Z"
    },
    "papermill": {
     "duration": 2.416679,
     "end_time": "2024-10-13T20:06:21.196846",
     "exception": false,
     "start_time": "2024-10-13T20:06:18.780167",
     "status": "completed"
    },
    "tags": []
   },
   "outputs": [],
   "source": [
    "df2 = pd.crosstab(df['SepetID'], df['Hizmet'])"
   ]
  },
  {
   "cell_type": "code",
   "execution_count": 8,
   "id": "59dbf63a",
   "metadata": {
    "execution": {
     "iopub.execute_input": "2024-10-13T20:06:21.206918Z",
     "iopub.status.busy": "2024-10-13T20:06:21.206490Z",
     "iopub.status.idle": "2024-10-13T20:06:21.255905Z",
     "shell.execute_reply": "2024-10-13T20:06:21.254712Z"
    },
    "papermill": {
     "duration": 0.057745,
     "end_time": "2024-10-13T20:06:21.258810",
     "exception": false,
     "start_time": "2024-10-13T20:06:21.201065",
     "status": "completed"
    },
    "tags": []
   },
   "outputs": [],
   "source": [
    "df2[df2 != 0] = 1"
   ]
  },
  {
   "cell_type": "markdown",
   "id": "793ef983",
   "metadata": {
    "papermill": {
     "duration": 0.003837,
     "end_time": "2024-10-13T20:06:21.266947",
     "exception": false,
     "start_time": "2024-10-13T20:06:21.263110",
     "status": "completed"
    },
    "tags": []
   },
   "source": [
    "check"
   ]
  },
  {
   "cell_type": "code",
   "execution_count": 9,
   "id": "f5047158",
   "metadata": {
    "execution": {
     "iopub.execute_input": "2024-10-13T20:06:21.276758Z",
     "iopub.status.busy": "2024-10-13T20:06:21.276291Z",
     "iopub.status.idle": "2024-10-13T20:06:21.291596Z",
     "shell.execute_reply": "2024-10-13T20:06:21.290455Z"
    },
    "papermill": {
     "duration": 0.02305,
     "end_time": "2024-10-13T20:06:21.294057",
     "exception": false,
     "start_time": "2024-10-13T20:06:21.271007",
     "status": "completed"
    },
    "tags": []
   },
   "outputs": [],
   "source": [
    "from mlxtend.frequent_patterns import apriori, association_rules"
   ]
  },
  {
   "cell_type": "code",
   "execution_count": 10,
   "id": "d46dd62d",
   "metadata": {
    "execution": {
     "iopub.execute_input": "2024-10-13T20:06:21.304951Z",
     "iopub.status.busy": "2024-10-13T20:06:21.304507Z",
     "iopub.status.idle": "2024-10-13T20:06:22.069166Z",
     "shell.execute_reply": "2024-10-13T20:06:22.068075Z"
    },
    "papermill": {
     "duration": 0.772409,
     "end_time": "2024-10-13T20:06:22.071557",
     "exception": false,
     "start_time": "2024-10-13T20:06:21.299148",
     "status": "completed"
    },
    "tags": []
   },
   "outputs": [
    {
     "name": "stderr",
     "output_type": "stream",
     "text": [
      "/opt/conda/lib/python3.10/site-packages/mlxtend/frequent_patterns/fpcommon.py:109: DeprecationWarning: DataFrames with non-bool types result in worse computationalperformance and their support might be discontinued in the future.Please use a DataFrame with bool type\n",
      "  warnings.warn(\n"
     ]
    },
    {
     "data": {
      "text/html": [
       "<div>\n",
       "<style scoped>\n",
       "    .dataframe tbody tr th:only-of-type {\n",
       "        vertical-align: middle;\n",
       "    }\n",
       "\n",
       "    .dataframe tbody tr th {\n",
       "        vertical-align: top;\n",
       "    }\n",
       "\n",
       "    .dataframe thead th {\n",
       "        text-align: right;\n",
       "    }\n",
       "</style>\n",
       "<table border=\"1\" class=\"dataframe\">\n",
       "  <thead>\n",
       "    <tr style=\"text-align: right;\">\n",
       "      <th></th>\n",
       "      <th>support</th>\n",
       "      <th>itemsets</th>\n",
       "    </tr>\n",
       "  </thead>\n",
       "  <tbody>\n",
       "    <tr>\n",
       "      <th>8</th>\n",
       "      <td>0.238121</td>\n",
       "      <td>(18_4)</td>\n",
       "    </tr>\n",
       "    <tr>\n",
       "      <th>19</th>\n",
       "      <td>0.130286</td>\n",
       "      <td>(2_0)</td>\n",
       "    </tr>\n",
       "    <tr>\n",
       "      <th>5</th>\n",
       "      <td>0.120963</td>\n",
       "      <td>(15_1)</td>\n",
       "    </tr>\n",
       "    <tr>\n",
       "      <th>39</th>\n",
       "      <td>0.067762</td>\n",
       "      <td>(49_1)</td>\n",
       "    </tr>\n",
       "    <tr>\n",
       "      <th>28</th>\n",
       "      <td>0.066568</td>\n",
       "      <td>(38_4)</td>\n",
       "    </tr>\n",
       "    <tr>\n",
       "      <th>3</th>\n",
       "      <td>0.056627</td>\n",
       "      <td>(13_11)</td>\n",
       "    </tr>\n",
       "    <tr>\n",
       "      <th>12</th>\n",
       "      <td>0.047515</td>\n",
       "      <td>(22_0)</td>\n",
       "    </tr>\n",
       "    <tr>\n",
       "      <th>9</th>\n",
       "      <td>0.045563</td>\n",
       "      <td>(19_6)</td>\n",
       "    </tr>\n",
       "    <tr>\n",
       "      <th>15</th>\n",
       "      <td>0.042895</td>\n",
       "      <td>(25_0)</td>\n",
       "    </tr>\n",
       "    <tr>\n",
       "      <th>7</th>\n",
       "      <td>0.041533</td>\n",
       "      <td>(17_5)</td>\n",
       "    </tr>\n",
       "  </tbody>\n",
       "</table>\n",
       "</div>"
      ],
      "text/plain": [
       "     support itemsets\n",
       "8   0.238121   (18_4)\n",
       "19  0.130286    (2_0)\n",
       "5   0.120963   (15_1)\n",
       "39  0.067762   (49_1)\n",
       "28  0.066568   (38_4)\n",
       "3   0.056627  (13_11)\n",
       "12  0.047515   (22_0)\n",
       "9   0.045563   (19_6)\n",
       "15  0.042895   (25_0)\n",
       "7   0.041533   (17_5)"
      ]
     },
     "execution_count": 10,
     "metadata": {},
     "output_type": "execute_result"
    }
   ],
   "source": [
    "frequent_itemsets = apriori(df2,\n",
    "                            min_support=0.01,\n",
    "                            use_colnames=True)\n",
    "\n",
    "frequent_itemsets.sort_values(\"support\", ascending=False)[:10]"
   ]
  },
  {
   "cell_type": "code",
   "execution_count": 11,
   "id": "f67fa4e4",
   "metadata": {
    "execution": {
     "iopub.execute_input": "2024-10-13T20:06:22.082641Z",
     "iopub.status.busy": "2024-10-13T20:06:22.081682Z",
     "iopub.status.idle": "2024-10-13T20:06:22.113020Z",
     "shell.execute_reply": "2024-10-13T20:06:22.111945Z"
    },
    "papermill": {
     "duration": 0.039181,
     "end_time": "2024-10-13T20:06:22.115266",
     "exception": false,
     "start_time": "2024-10-13T20:06:22.076085",
     "status": "completed"
    },
    "tags": []
   },
   "outputs": [
    {
     "data": {
      "text/html": [
       "<div>\n",
       "<style scoped>\n",
       "    .dataframe tbody tr th:only-of-type {\n",
       "        vertical-align: middle;\n",
       "    }\n",
       "\n",
       "    .dataframe tbody tr th {\n",
       "        vertical-align: top;\n",
       "    }\n",
       "\n",
       "    .dataframe thead th {\n",
       "        text-align: right;\n",
       "    }\n",
       "</style>\n",
       "<table border=\"1\" class=\"dataframe\">\n",
       "  <thead>\n",
       "    <tr style=\"text-align: right;\">\n",
       "      <th></th>\n",
       "      <th>antecedents</th>\n",
       "      <th>consequents</th>\n",
       "      <th>antecedent support</th>\n",
       "      <th>consequent support</th>\n",
       "      <th>support</th>\n",
       "      <th>confidence</th>\n",
       "      <th>lift</th>\n",
       "      <th>leverage</th>\n",
       "      <th>conviction</th>\n",
       "      <th>zhangs_metric</th>\n",
       "    </tr>\n",
       "  </thead>\n",
       "  <tbody>\n",
       "    <tr>\n",
       "      <th>10</th>\n",
       "      <td>(25_0)</td>\n",
       "      <td>(22_0)</td>\n",
       "      <td>0.042895</td>\n",
       "      <td>0.047515</td>\n",
       "      <td>0.011120</td>\n",
       "      <td>0.259247</td>\n",
       "      <td>5.456141</td>\n",
       "      <td>0.009082</td>\n",
       "      <td>1.285834</td>\n",
       "      <td>0.853324</td>\n",
       "    </tr>\n",
       "    <tr>\n",
       "      <th>11</th>\n",
       "      <td>(22_0)</td>\n",
       "      <td>(25_0)</td>\n",
       "      <td>0.047515</td>\n",
       "      <td>0.042895</td>\n",
       "      <td>0.011120</td>\n",
       "      <td>0.234043</td>\n",
       "      <td>5.456141</td>\n",
       "      <td>0.009082</td>\n",
       "      <td>1.249553</td>\n",
       "      <td>0.857462</td>\n",
       "    </tr>\n",
       "    <tr>\n",
       "      <th>19</th>\n",
       "      <td>(38_4)</td>\n",
       "      <td>(9_4)</td>\n",
       "      <td>0.066568</td>\n",
       "      <td>0.041393</td>\n",
       "      <td>0.010067</td>\n",
       "      <td>0.151234</td>\n",
       "      <td>3.653623</td>\n",
       "      <td>0.007312</td>\n",
       "      <td>1.129413</td>\n",
       "      <td>0.778096</td>\n",
       "    </tr>\n",
       "    <tr>\n",
       "      <th>18</th>\n",
       "      <td>(9_4)</td>\n",
       "      <td>(38_4)</td>\n",
       "      <td>0.041393</td>\n",
       "      <td>0.066568</td>\n",
       "      <td>0.010067</td>\n",
       "      <td>0.243216</td>\n",
       "      <td>3.653623</td>\n",
       "      <td>0.007312</td>\n",
       "      <td>1.233418</td>\n",
       "      <td>0.757661</td>\n",
       "    </tr>\n",
       "    <tr>\n",
       "      <th>4</th>\n",
       "      <td>(15_1)</td>\n",
       "      <td>(33_4)</td>\n",
       "      <td>0.120963</td>\n",
       "      <td>0.027310</td>\n",
       "      <td>0.011233</td>\n",
       "      <td>0.092861</td>\n",
       "      <td>3.400299</td>\n",
       "      <td>0.007929</td>\n",
       "      <td>1.072262</td>\n",
       "      <td>0.803047</td>\n",
       "    </tr>\n",
       "    <tr>\n",
       "      <th>5</th>\n",
       "      <td>(33_4)</td>\n",
       "      <td>(15_1)</td>\n",
       "      <td>0.027310</td>\n",
       "      <td>0.120963</td>\n",
       "      <td>0.011233</td>\n",
       "      <td>0.411311</td>\n",
       "      <td>3.400299</td>\n",
       "      <td>0.007929</td>\n",
       "      <td>1.493211</td>\n",
       "      <td>0.725728</td>\n",
       "    </tr>\n",
       "    <tr>\n",
       "      <th>12</th>\n",
       "      <td>(2_0)</td>\n",
       "      <td>(22_0)</td>\n",
       "      <td>0.130286</td>\n",
       "      <td>0.047515</td>\n",
       "      <td>0.016568</td>\n",
       "      <td>0.127169</td>\n",
       "      <td>2.676409</td>\n",
       "      <td>0.010378</td>\n",
       "      <td>1.091260</td>\n",
       "      <td>0.720197</td>\n",
       "    </tr>\n",
       "    <tr>\n",
       "      <th>13</th>\n",
       "      <td>(22_0)</td>\n",
       "      <td>(2_0)</td>\n",
       "      <td>0.047515</td>\n",
       "      <td>0.130286</td>\n",
       "      <td>0.016568</td>\n",
       "      <td>0.348700</td>\n",
       "      <td>2.676409</td>\n",
       "      <td>0.010378</td>\n",
       "      <td>1.335350</td>\n",
       "      <td>0.657611</td>\n",
       "    </tr>\n",
       "    <tr>\n",
       "      <th>14</th>\n",
       "      <td>(25_0)</td>\n",
       "      <td>(2_0)</td>\n",
       "      <td>0.042895</td>\n",
       "      <td>0.130286</td>\n",
       "      <td>0.013437</td>\n",
       "      <td>0.313257</td>\n",
       "      <td>2.404371</td>\n",
       "      <td>0.007849</td>\n",
       "      <td>1.266432</td>\n",
       "      <td>0.610268</td>\n",
       "    </tr>\n",
       "    <tr>\n",
       "      <th>15</th>\n",
       "      <td>(2_0)</td>\n",
       "      <td>(25_0)</td>\n",
       "      <td>0.130286</td>\n",
       "      <td>0.042895</td>\n",
       "      <td>0.013437</td>\n",
       "      <td>0.103136</td>\n",
       "      <td>2.404371</td>\n",
       "      <td>0.007849</td>\n",
       "      <td>1.067168</td>\n",
       "      <td>0.671590</td>\n",
       "    </tr>\n",
       "    <tr>\n",
       "      <th>2</th>\n",
       "      <td>(2_0)</td>\n",
       "      <td>(15_1)</td>\n",
       "      <td>0.130286</td>\n",
       "      <td>0.120963</td>\n",
       "      <td>0.033951</td>\n",
       "      <td>0.260588</td>\n",
       "      <td>2.154278</td>\n",
       "      <td>0.018191</td>\n",
       "      <td>1.188833</td>\n",
       "      <td>0.616073</td>\n",
       "    </tr>\n",
       "    <tr>\n",
       "      <th>3</th>\n",
       "      <td>(15_1)</td>\n",
       "      <td>(2_0)</td>\n",
       "      <td>0.120963</td>\n",
       "      <td>0.130286</td>\n",
       "      <td>0.033951</td>\n",
       "      <td>0.280673</td>\n",
       "      <td>2.154278</td>\n",
       "      <td>0.018191</td>\n",
       "      <td>1.209066</td>\n",
       "      <td>0.609539</td>\n",
       "    </tr>\n",
       "  </tbody>\n",
       "</table>\n",
       "</div>"
      ],
      "text/plain": [
       "   antecedents consequents  antecedent support  consequent support   support  \\\n",
       "10      (25_0)      (22_0)            0.042895            0.047515  0.011120   \n",
       "11      (22_0)      (25_0)            0.047515            0.042895  0.011120   \n",
       "19      (38_4)       (9_4)            0.066568            0.041393  0.010067   \n",
       "18       (9_4)      (38_4)            0.041393            0.066568  0.010067   \n",
       "4       (15_1)      (33_4)            0.120963            0.027310  0.011233   \n",
       "5       (33_4)      (15_1)            0.027310            0.120963  0.011233   \n",
       "12       (2_0)      (22_0)            0.130286            0.047515  0.016568   \n",
       "13      (22_0)       (2_0)            0.047515            0.130286  0.016568   \n",
       "14      (25_0)       (2_0)            0.042895            0.130286  0.013437   \n",
       "15       (2_0)      (25_0)            0.130286            0.042895  0.013437   \n",
       "2        (2_0)      (15_1)            0.130286            0.120963  0.033951   \n",
       "3       (15_1)       (2_0)            0.120963            0.130286  0.033951   \n",
       "\n",
       "    confidence      lift  leverage  conviction  zhangs_metric  \n",
       "10    0.259247  5.456141  0.009082    1.285834       0.853324  \n",
       "11    0.234043  5.456141  0.009082    1.249553       0.857462  \n",
       "19    0.151234  3.653623  0.007312    1.129413       0.778096  \n",
       "18    0.243216  3.653623  0.007312    1.233418       0.757661  \n",
       "4     0.092861  3.400299  0.007929    1.072262       0.803047  \n",
       "5     0.411311  3.400299  0.007929    1.493211       0.725728  \n",
       "12    0.127169  2.676409  0.010378    1.091260       0.720197  \n",
       "13    0.348700  2.676409  0.010378    1.335350       0.657611  \n",
       "14    0.313257  2.404371  0.007849    1.266432       0.610268  \n",
       "15    0.103136  2.404371  0.007849    1.067168       0.671590  \n",
       "2     0.260588  2.154278  0.018191    1.188833       0.616073  \n",
       "3     0.280673  2.154278  0.018191    1.209066       0.609539  "
      ]
     },
     "execution_count": 11,
     "metadata": {},
     "output_type": "execute_result"
    }
   ],
   "source": [
    "rules = association_rules(frequent_itemsets,\n",
    "                          metric=\"support\",\n",
    "                          min_threshold=0.01)\n",
    "\n",
    "rules[rules[\"lift\"] > 2].sort_values(\"lift\", ascending = False)"
   ]
  },
  {
   "cell_type": "code",
   "execution_count": 12,
   "id": "0fa92ad7",
   "metadata": {
    "execution": {
     "iopub.execute_input": "2024-10-13T20:06:22.127038Z",
     "iopub.status.busy": "2024-10-13T20:06:22.126654Z",
     "iopub.status.idle": "2024-10-13T20:06:22.156951Z",
     "shell.execute_reply": "2024-10-13T20:06:22.155692Z"
    },
    "papermill": {
     "duration": 0.038795,
     "end_time": "2024-10-13T20:06:22.159158",
     "exception": false,
     "start_time": "2024-10-13T20:06:22.120363",
     "status": "completed"
    },
    "tags": []
   },
   "outputs": [
    {
     "name": "stdout",
     "output_type": "stream",
     "text": [
      "Recommendation for 10591 = ['22_0']\n"
     ]
    }
   ],
   "source": [
    "latest_user_with_2_0 = df[df['Hizmet'] == '2_0'].sort_values(by='New_Date', ascending=False).iloc[0]['UserId']\n",
    "\n",
    "\n",
    "def arl_recommender(rules_df, Services, rec_count=1):\n",
    "    sorted_rules = rules_df.sort_values(\"lift\", ascending=False)\n",
    "    recommendation_list = []\n",
    "    for i, product in enumerate(sorted_rules[\"antecedents\"]):\n",
    "        for j in list(product):\n",
    "            if j == Services:\n",
    "                recommendation_list.append(list(sorted_rules.iloc[i][\"consequents\"])[0])\n",
    "\n",
    "    return recommendation_list[0:rec_count]\n",
    "\n",
    "\n",
    "\n",
    "recommendations = arl_recommender(rules, '2_0', rec_count=1)\n",
    "\n",
    "print(f\"Recommendation for {latest_user_with_2_0 } = {recommendations}\")"
   ]
  }
 ],
 "metadata": {
  "kaggle": {
   "accelerator": "none",
   "dataSources": [
    {
     "datasetId": 5869285,
     "sourceId": 9617261,
     "sourceType": "datasetVersion"
    }
   ],
   "dockerImageVersionId": 30786,
   "isGpuEnabled": false,
   "isInternetEnabled": true,
   "language": "python",
   "sourceType": "notebook"
  },
  "kernelspec": {
   "display_name": "Python 3",
   "language": "python",
   "name": "python3"
  },
  "language_info": {
   "codemirror_mode": {
    "name": "ipython",
    "version": 3
   },
   "file_extension": ".py",
   "mimetype": "text/x-python",
   "name": "python",
   "nbconvert_exporter": "python",
   "pygments_lexer": "ipython3",
   "version": "3.10.14"
  },
  "papermill": {
   "default_parameters": {},
   "duration": 8.125914,
   "end_time": "2024-10-13T20:06:22.685103",
   "environment_variables": {},
   "exception": null,
   "input_path": "__notebook__.ipynb",
   "output_path": "__notebook__.ipynb",
   "parameters": {},
   "start_time": "2024-10-13T20:06:14.559189",
   "version": "2.6.0"
  }
 },
 "nbformat": 4,
 "nbformat_minor": 5
}
